{
  "nbformat": 4,
  "nbformat_minor": 0,
  "metadata": {
    "colab": {
      "provenance": [],
      "authorship_tag": "ABX9TyNiZJX77nsrIewIgpdtwDgh",
      "include_colab_link": true
    },
    "kernelspec": {
      "name": "python3",
      "display_name": "Python 3"
    },
    "language_info": {
      "name": "python"
    }
  },
  "cells": [
    {
      "cell_type": "markdown",
      "metadata": {
        "id": "view-in-github",
        "colab_type": "text"
      },
      "source": [
        "<a href=\"https://colab.research.google.com/github/Alina-Kanwal/Alina_Hackathon/blob/main/00_intro_python.ipynb\" target=\"_parent\"><img src=\"https://colab.research.google.com/assets/colab-badge.svg\" alt=\"Open In Colab\"/></a>"
      ]
    },
    {
      "cell_type": "code",
      "execution_count": null,
      "metadata": {
        "colab": {
          "base_uri": "https://localhost:8080/"
        },
        "id": "lOug6vXhNAth",
        "outputId": "77f1a0ac-0f75-4c71-c078-6e461d9da732"
      },
      "outputs": [
        {
          "output_type": "stream",
          "name": "stdout",
          "text": [
            "Enter your first number: 2\n",
            "Enter your first number: 4\n",
            "The total sum of 2 + 4 is 6\n"
          ]
        }
      ],
      "source": [
        "#This is the program for adding number\n",
        "#type guard is used to execuation of module in function when we want to execute it\n",
        "def add():\n",
        "   first_number=int(input(\"Enter your first number: \"))\n",
        "   second_number=int(input(\"Enter your first number: \"))\n",
        "   total = int(first_number + second_number)\n",
        "   print(f\"The total sum of {first_number} + {second_number} is {total}\")\n",
        "\n",
        "if __name__ == \"__main__\":\n",
        "  add()\n",
        "  '''type guard use krny say hmary pss name ka aik variable bun jata hy jiski default value main hoti hy when we call it in scripts\n",
        "  we get its default value main at hy '''\n",
        "\n",
        "\n",
        "\n"
      ]
    },
    {
      "cell_type": "code",
      "source": [
        "#02_agreement_bot.md\n",
        "def main():\n",
        "  favt_animal = input(\"Enter your favourite animal name: \")\n",
        "  print(f\"My favourite animal name is also {favt_animal}!\")\n",
        "\n",
        "if __name__ == \"__main__\" :\n",
        "  main()\n"
      ],
      "metadata": {
        "colab": {
          "base_uri": "https://localhost:8080/"
        },
        "id": "7H-yhugEUSXc",
        "outputId": "559f5b7e-88cd-4ca1-f8d1-e5e64e851e8f"
      },
      "execution_count": null,
      "outputs": [
        {
          "output_type": "stream",
          "name": "stdout",
          "text": [
            "Enter your favourite animal name: cow\n",
            "My favourite animal is also cow!\n"
          ]
        }
      ]
    },
    {
      "cell_type": "code",
      "source": [
        "#03_fahrenheit_to_celsius.md\n",
        "def temp():\n",
        "  Fahrenheit = float(input(\"Enter your Fahrenheit degree \"))\n",
        "  degrees_celsius = (Fahrenheit -32) * 5.0/9.0\n",
        "  print(f\"The temprature {Fahrenheit} = {degrees_celsius}\")\n",
        "\n",
        "if __name__ == \"__main__\":\n",
        "  temp()\n",
        "\n",
        "\n"
      ],
      "metadata": {
        "colab": {
          "base_uri": "https://localhost:8080/"
        },
        "id": "v2J6ZGIvYBkB",
        "outputId": "54eb4eac-ac1c-4a61-adcb-2ae308af0546"
      },
      "execution_count": null,
      "outputs": [
        {
          "output_type": "stream",
          "name": "stdout",
          "text": [
            "Enter your Fahrenheit degree6\n",
            "The temprature 6.0 = -14.444444444444445\n"
          ]
        }
      ]
    },
    {
      "cell_type": "code",
      "source": [
        "#04_how_old_are_they.md\n",
        "\n",
        "def add_ages():\n",
        "  anton : int = 20\n",
        "  beth : int = 6 + anton\n",
        "  chen : int = 20 + beth\n",
        "  drew : int = chen + anton\n",
        "  ethan : int = chen\n",
        "\n",
        "  print(\"Anton is \" + str(anton))\n",
        "  print(\"Beth is \" + str(beth))\n",
        "  print(\"chen is \" + str(chen))\n",
        "  print(\"Drew is \" + str(drew))\n",
        "  print(\"Ethan is \" + str(ethan))\n",
        "\n",
        "if __name__ == \"__main__\":\n",
        "  add_ages()\n",
        "\n",
        "\n"
      ],
      "metadata": {
        "colab": {
          "base_uri": "https://localhost:8080/"
        },
        "id": "9GKkowYEIOKs",
        "outputId": "1b3efa42-e0e2-4f2a-e395-c140a7dc975e"
      },
      "execution_count": null,
      "outputs": [
        {
          "output_type": "stream",
          "name": "stdout",
          "text": [
            "Anton is 20\n",
            "Beth is 26\n",
            "chen is 46\n",
            "Drew is 66\n",
            "Ethan is 46\n"
          ]
        }
      ]
    },
    {
      "cell_type": "code",
      "source": [
        "def traingle():\n",
        "  length:float = float(input(\"What is the length of side one\"))\n",
        "  length2:float = float(input(\"What is the length of side two\"))\n",
        "  length3:float = float(input(\"What is the length of side three\"))\n",
        "  total:float = float(length+length2+length3)\n",
        "\n",
        "  print(f\"The parameter of traingle is  {total}\")\n",
        "\n",
        "if __name__ == \"__main__\":\n",
        "  traingle()\n"
      ],
      "metadata": {
        "colab": {
          "base_uri": "https://localhost:8080/"
        },
        "id": "S0Bxk1CPRGZL",
        "outputId": "8f832407-4cd6-4d72-b81d-78126649b14a"
      },
      "execution_count": null,
      "outputs": [
        {
          "output_type": "stream",
          "name": "stdout",
          "text": [
            "What is the length of side one7\n",
            "What is the length of side two8\n",
            "What is the length of side three4\n",
            "The length of traingle is  19.0\n"
          ]
        }
      ]
    },
    {
      "cell_type": "code",
      "source": [
        "#06_Squares_number\n",
        "def square():\n",
        "  num = int(input(\"Type a number to see its square:\"))\n",
        "  print(str(num) + \" squared is \" + str(num**2))\n",
        "\n",
        "if __name__ == \"__main__\":\n",
        "  square()\n"
      ],
      "metadata": {
        "id": "sLzU9CJMscQN"
      },
      "execution_count": null,
      "outputs": []
    }
  ]
}